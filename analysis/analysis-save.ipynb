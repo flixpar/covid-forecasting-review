{
 "cells": [
  {
   "cell_type": "markdown",
   "metadata": {},
   "source": [
    "# COVID Forecasting Review Data Analysis"
   ]
  },
  {
   "cell_type": "code",
   "execution_count": 1,
   "metadata": {},
   "outputs": [],
   "source": [
    "import numpy as np\n",
    "import pandas as pd\n",
    "import matplotlib.pyplot as plt\n",
    "import datetime as dt"
   ]
  },
  {
   "cell_type": "code",
   "execution_count": 2,
   "metadata": {},
   "outputs": [],
   "source": [
    "plt.style.use(\"seaborn\")\n",
    "plt.rcParams[\"figure.figsize\"] = (20,8)"
   ]
  },
  {
   "cell_type": "markdown",
   "metadata": {},
   "source": [
    "## Load and clean data"
   ]
  },
  {
   "cell_type": "code",
   "execution_count": 3,
   "metadata": {},
   "outputs": [],
   "source": [
    "data = pd.read_csv(\"../data/finaldata.csv\", keep_default_na=False)"
   ]
  },
  {
   "cell_type": "code",
   "execution_count": 4,
   "metadata": {},
   "outputs": [],
   "source": [
    "metadata = pd.read_csv(\"../data/metadata.csv\", keep_default_na=True, parse_dates=[\"date_published\"])"
   ]
  },
  {
   "cell_type": "code",
   "execution_count": 5,
   "metadata": {},
   "outputs": [],
   "source": [
    "manual_journal_fixes = {\n",
    "    \"Chaos, Solitons & Fractals\": \"Chaos Solitons & Fractals\",\n",
    "    \"PLOS Biology\": \"PLoS Biology\",\n",
    "    \"PLOS ONE\": \"PLoS ONE\",\n",
    "    \"PLOS Computational Biology\": \"PLoS Computational Biology\",\n",
    "    \"Proceedings of the Royal Society A: Mathematical, Physical and Engineering Sciences\": \"Proceedings of the Royal Society A Mathematical Physical and Engineering Sciences\",\n",
    "    \"Journal of Big Data\": \"Journal Of Big Data\",\n",
    "    \"Physica A: Statistical Mechanics and its Applications\": \"Physica A Statistical Mechanics and its Applications\",\n",
    "    \"Science of The Total Environment\": \"The Science of The Total Environment\",\n",
    "}"
   ]
  },
  {
   "cell_type": "code",
   "execution_count": 6,
   "metadata": {},
   "outputs": [],
   "source": [
    "journal_metadata = pd.read_csv(\"../data/journal_metadata.csv\")\n",
    "journal_subjects_lookup = {row[1].title: row[1].subjects for row in journal_metadata.iterrows()}\n",
    "for (k,v) in manual_journal_fixes.items():\n",
    "    journal_subjects_lookup[k] = journal_subjects_lookup[v]\n",
    "metadata[\"journal_subjects\"] = metadata.journal.map(lambda x: journal_subjects_lookup.get(x, \"\"))\n",
    "metadata.loc[metadata.paper_type != \"journal-article\", \"journal_subjects\"] = \"preprint\""
   ]
  },
  {
   "cell_type": "markdown",
   "metadata": {},
   "source": [
    "## Helper Functions"
   ]
  },
  {
   "cell_type": "code",
   "execution_count": 7,
   "metadata": {},
   "outputs": [],
   "source": [
    "def category_occurances(col, remove=[], corrections={}, sep=\", \"):\n",
    "    col = list(col)\n",
    "    nrows = len(col)\n",
    "    col = [x.strip() for s in col for x in str(s).split(sep)]\n",
    "    col = [corrections[x] if x in corrections else x for x in col]\n",
    "    col = [x if isinstance(x, list) else [x] for x in col]\n",
    "    col = [x for y in col for x in y]\n",
    "    unq_vals = list(set(col))\n",
    "    unq_vals = [x for x in unq_vals if not x in remove]\n",
    "    col_occ_dict = {x: col.count(x) for x in unq_vals}\n",
    "    col_occ = pd.DataFrame(col_occ_dict.items())\n",
    "    col_occ = col_occ.rename(columns={0: \"value\", 1: \"occurances\"})\n",
    "    col_occ = col_occ.sort_values(by=\"occurances\", ascending=False, ignore_index=True)\n",
    "    col_occ[\"pct\"] = col_occ[\"occurances\"] / nrows\n",
    "    return col_occ"
   ]
  },
  {
   "cell_type": "code",
   "execution_count": 8,
   "metadata": {},
   "outputs": [],
   "source": [
    "def category_occurances_flat(col):\n",
    "    col = list(col)\n",
    "    unq_vals = list(set(col))\n",
    "    dist = [{\"value\": v, \"occurances\": col.count(v)} for v in unq_vals]\n",
    "    dist_df = pd.DataFrame(dist)\n",
    "    dist_df = dist_df.sort_values(by=\"occurances\", ascending=False, ignore_index=True)\n",
    "    dist_df[\"pct\"] = dist_df[\"occurances\"] / len(col)\n",
    "    return dist_df"
   ]
  },
  {
   "cell_type": "code",
   "execution_count": 9,
   "metadata": {},
   "outputs": [],
   "source": [
    "def numcategory_occurances(col, ignore=[]):\n",
    "    col = list(col)\n",
    "    nrows = len(col)\n",
    "    col = [r.split(\", \") for r in col]\n",
    "    col = [[x for x in r if x not in ignore] for r in col]\n",
    "    lens = [len(r) for r in col]\n",
    "    maxlen = max(lens)\n",
    "    dist = [{\"value\": i, \"occurances\": lens.count(i)} for i in range(maxlen+1)]\n",
    "    dist_df = pd.DataFrame(dist)\n",
    "    dist_df[\"pct\"] = dist_df[\"occurances\"] / nrows\n",
    "    return dist_df"
   ]
  },
  {
   "cell_type": "markdown",
   "metadata": {},
   "source": [
    "## Analysis"
   ]
  },
  {
   "cell_type": "code",
   "execution_count": 10,
   "metadata": {},
   "outputs": [],
   "source": [
    "def compute_results(d, m, save=None):\n",
    "    summary = pd.DataFrame([\n",
    "        {\"metric\": \"total papers\", \"value\": len(m)},\n",
    "        {\"metric\": \"journal articles\", \"value\": sum(m[\"paper_type\"] == \"journal-article\")},\n",
    "        {\"metric\": \"preprints\", \"value\": sum(m[\"paper_type\"] != \"journal-article\")},\n",
    "        {\"metric\": \"start date\", \"value\": m[\"date_published\"].min().date()},\n",
    "        {\"metric\": \"end date\", \"value\": m[\"date_published\"].max().date()},\n",
    "    ])\n",
    "\n",
    "    d_evaluable = d[d.performance_eval != \"not evaluable\"]\n",
    "    d_evaluated = d[d.performance_eval == \"metric-based\"]\n",
    "\n",
    "    results = {\n",
    "        \"summary\": summary,\n",
    "        \"data_cats\": category_occurances(d[\"data_cat\"], corrections={\"deaths?\": \"deaths\"}),\n",
    "        \"data_cat_counts\": numcategory_occurances(d[\"data_cat\"], ignore=[]),\n",
    "        \"method_cats\": category_occurances(d[\"method_cat\"]),\n",
    "        \"goal_cats\": category_occurances(d[\"objective_cat\"]),\n",
    "        \"region_level\": category_occurances(d[\"region_level\"], corrections={\"county\": \"county or smaller\", \"city\": \"county or smaller\", \"town\": \"county or smaller\", \"zipcode\": \"county or smaller\"}),\n",
    "        \"region_level_full\": category_occurances(d[\"region_level\"]),\n",
    "        \"target_cats\": category_occurances(d[\"target\"]),\n",
    "        \"eval_cats\": category_occurances(d[\"performance_eval\"]),\n",
    "        \"eval_cats_evaluable\": category_occurances(d_evaluable[\"performance_eval_sub\"]),\n",
    "        \"eval_cats_evaluated\": category_occurances(d_evaluated[\"performance_eval_sub\"]),\n",
    "        \"eval_subcats\": category_occurances(d[\"performance_eval_sub\"]),\n",
    "        \"eval_metrics\": category_occurances(d_evaluated[\"metrics\"]),\n",
    "        \"eval_metric_counts\": numcategory_occurances(d_evaluated[\"metrics\"], ignore=[\"NA\"]),\n",
    "        \"uncertainty_cats\": category_occurances(d[\"uncertainty\"], corrections={\"CIs/Pis\": \"CIs/PIs\"}),\n",
    "        \"uncertainty_subcats\": category_occurances(d[\"uncertainty_sub\"]),\n",
    "        \"limitation_cats\": category_occurances(d[\"limitations\"]),\n",
    "        \"limitation_cat_counts\": numcategory_occurances(d[\"limitations\"], ignore=[\"none\"]),\n",
    "        \"journals\": category_occurances_flat(m[\"journal\"]),\n",
    "        \"journal_subjects\": category_occurances(m[\"journal_subjects\"], sep=\"; \"),\n",
    "    }\n",
    "    \n",
    "    if save is not None:\n",
    "        with pd.ExcelWriter(save) as writer:\n",
    "            for sheet_name, df in results.items():\n",
    "                df.to_excel(writer, sheet_name=sheet_name, index=False)\n",
    "    \n",
    "    return results"
   ]
  },
  {
   "cell_type": "code",
   "execution_count": 11,
   "metadata": {},
   "outputs": [],
   "source": [
    "compute_results(data, metadata, save=\"../results/results-main.xlsx\");"
   ]
  },
  {
   "cell_type": "code",
   "execution_count": null,
   "metadata": {},
   "outputs": [],
   "source": []
  }
 ],
 "metadata": {
  "kernelspec": {
   "display_name": "Python 3",
   "language": "python",
   "name": "python3"
  },
  "language_info": {
   "codemirror_mode": {
    "name": "ipython",
    "version": 3
   },
   "file_extension": ".py",
   "mimetype": "text/x-python",
   "name": "python",
   "nbconvert_exporter": "python",
   "pygments_lexer": "ipython3",
   "version": "3.9.7"
  }
 },
 "nbformat": 4,
 "nbformat_minor": 4
}
